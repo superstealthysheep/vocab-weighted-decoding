{
 "cells": [
  {
   "cell_type": "code",
   "execution_count": 26,
   "metadata": {},
   "outputs": [],
   "source": [
    "import pandas as pd\n",
    "import re\n",
    "import plotly.express as px"
   ]
  },
  {
   "cell_type": "markdown",
   "metadata": {},
   "source": [
    "### Load vocab"
   ]
  },
  {
   "cell_type": "code",
   "execution_count": 18,
   "metadata": {},
   "outputs": [],
   "source": [
    "common_vocab = pd.read_csv(\"../data/vocab_2000.csv\")\n",
    "common_500 = {w.lower() for w in common_vocab['word'][:500]}"
   ]
  },
  {
   "cell_type": "markdown",
   "metadata": {},
   "source": [
    "### Load generations"
   ]
  },
  {
   "cell_type": "code",
   "execution_count": null,
   "metadata": {},
   "outputs": [],
   "source": [
    "# df = pd.read_csv(\"../data/human_evals_3.csv\").drop(['mechanics_andy', 'semantics_andy', 'context_andy'], axis=1)\n",
    "df = pd.read_csv(\"../data/human_evals_4.csv\")\n",
    "\n",
    "column_renamer = {}\n",
    "for i,annotator_name in enumerate(['philip', 'emilie', 'william', 'andy']):\n",
    "    for metric_name in ['mechanics', 'semantics', 'context']:\n",
    "        column_renamer[f'{metric_name}_{annotator_name}'] = f'{metric_name}_{i}'\n",
    "\n",
    "df = df.rename(columns=column_renamer)\n",
    "df.head()"
   ]
  },
  {
   "cell_type": "markdown",
   "metadata": {},
   "source": [
    "### Eval: confirming target word is in generation"
   ]
  },
  {
   "cell_type": "code",
   "execution_count": 22,
   "metadata": {},
   "outputs": [],
   "source": [
    "# note: only checks for substring. would be aided in accuracy by lemmatization\n",
    "def check_containments(df, generation_column: str):\n",
    "    containments = []\n",
    "    for row in df.to_dict(orient='records'):\n",
    "        vocab_word = row['vocab_word'].lower()\n",
    "        generation = row[generation_column].lower()\n",
    "        # vocab_in_generation = bool(re.search(vocab_word, generation))\n",
    "        containments.append(vocab_word in generation)\n",
    "    return containments\n",
    "\n",
    "def count_containments(df, generation_column):\n",
    "    return sum(check_containments(df, generation_column))"
   ]
  },
  {
   "cell_type": "code",
   "execution_count": null,
   "metadata": {},
   "outputs": [],
   "source": [
    "####################\n",
    "# Running the eval #\n",
    "####################\n",
    "df['contains_target'] = check_containments(df, 'baseline_prompt')\n",
    "df['contains_target'].value_counts()\n",
    "\n",
    "# print(f\"# of rows: {len(df)}\\n===\\n# containing target vocab:\")\n",
    "# for col in experiment_columns_names:\n",
    "#     print(col, count_containments(df, col))"
   ]
  },
  {
   "cell_type": "markdown",
   "metadata": {},
   "source": [
    "### Eval: Counting out-of-vocabulary words"
   ]
  },
  {
   "cell_type": "code",
   "execution_count": 30,
   "metadata": {},
   "outputs": [],
   "source": [
    "def clean_text(input: str):\n",
    "    input = input.lower()\n",
    "    input = re.sub(\"[\\s,.?!'\\\"]+\", \" \", input)\n",
    "    input = re.sub(\"\\s+\", \" \", input)\n",
    "    input = input.strip()\n",
    "    return input\n",
    "\n",
    "def split_words(generation):\n",
    "    generation = clean_text(generation)\n",
    "    words = re.split(\"\\s+\", generation)\n",
    "    return words\n",
    "\n",
    "def count_out_of_vocab(generation, vocab):\n",
    "    return len(filter_out_of_vocab(generation, vocab))\n",
    "    # words = split_words(generation)\n",
    "    # return sum(w not in vocab for w in words)\n",
    "\n",
    "# TODO: perhaps do simple tweak to account for (regular) plurals (if need is demonstrated)\n",
    "# given more time/complexity, could preprocess all words by lemmatizing them\n",
    "def filter_out_of_vocab(generation, vocab):\n",
    "    words = split_words(generation)\n",
    "    return [w for w in words if w not in vocab]\n",
    "\n",
    "def vocab_count_eval(df, generation_column: str, vocab_set):\n",
    "    out_of_vocab_counts = []\n",
    "    for row in df.to_dict(orient='records'):\n",
    "        target_word = row['vocab_word'].lower()\n",
    "        vocab_set = vocab_set | {target_word}\n",
    "        generation = row[generation_column].lower()\n",
    "        out_of_vocab_counts.append(count_out_of_vocab(generation, vocab_set))\n",
    "    return out_of_vocab_counts\n",
    "\n",
    "def word_count(df, generation_column):\n",
    "    counts = []\n",
    "    for row in df.to_dict(orient='records'):\n",
    "        generation = row[generation_column].lower()\n",
    "        counts.append(len(split_words(generation)))\n",
    "    return counts"
   ]
  },
  {
   "cell_type": "code",
   "execution_count": 31,
   "metadata": {},
   "outputs": [],
   "source": [
    "####################\n",
    "# Running the eval #\n",
    "####################\n",
    "df['n_out_of_vocab'] = vocab_count_eval(df, 'baseline_prompt', common_500)\n",
    "df['generation_length'] = word_count(df, 'baseline_prompt')\n",
    "df['%_out_of_vocab'] = df['n_out_of_vocab'] / df['generation_length']"
   ]
  },
  {
   "cell_type": "markdown",
   "metadata": {},
   "source": [
    "### Analysis of human evals"
   ]
  },
  {
   "cell_type": "markdown",
   "metadata": {},
   "source": [
    "### Plotting"
   ]
  },
  {
   "cell_type": "code",
   "execution_count": null,
   "metadata": {},
   "outputs": [],
   "source": []
  }
 ],
 "metadata": {
  "kernelspec": {
   "display_name": ".venv",
   "language": "python",
   "name": "python3"
  },
  "language_info": {
   "codemirror_mode": {
    "name": "ipython",
    "version": 3
   },
   "file_extension": ".py",
   "mimetype": "text/x-python",
   "name": "python",
   "nbconvert_exporter": "python",
   "pygments_lexer": "ipython3",
   "version": "3.11.9"
  }
 },
 "nbformat": 4,
 "nbformat_minor": 2
}
