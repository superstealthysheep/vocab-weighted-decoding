{
 "cells": [
  {
   "cell_type": "code",
   "execution_count": 1,
   "metadata": {},
   "outputs": [],
   "source": [
    "import pandas as pd\n",
    "import re\n",
    "import plotly.express as px\n",
    "import krippendorff"
   ]
  },
  {
   "cell_type": "markdown",
   "metadata": {},
   "source": [
    "### Load vocab"
   ]
  },
  {
   "cell_type": "code",
   "execution_count": 2,
   "metadata": {},
   "outputs": [],
   "source": [
    "common_vocab = pd.read_csv(\"../data/vocab_2000.csv\")\n",
    "common_500 = {w.lower() for w in common_vocab['word'][:500]}"
   ]
  },
  {
   "cell_type": "markdown",
   "metadata": {},
   "source": [
    "### Load generations"
   ]
  },
  {
   "cell_type": "code",
   "execution_count": null,
   "metadata": {},
   "outputs": [],
   "source": [
    "# df = pd.read_csv(\"../data/human_evals_3.csv\").drop(['mechanics_andy', 'semantics_andy', 'context_andy'], axis=1)\n",
    "df = pd.read_csv(\"../data/human_evals_4.csv\")\n",
    "\n",
    "column_renamer = {}\n",
    "for i,annotator_name in enumerate(['philip', 'emilie', 'william', 'andy']):\n",
    "    for metric_name in ['mechanics', 'semantics', 'context']:\n",
    "        column_renamer[f'{metric_name}_{annotator_name}'] = f'{metric_name}_{i}'\n",
    "\n",
    "df = df.rename(columns=column_renamer)\n",
    "df.head()"
   ]
  },
  {
   "cell_type": "markdown",
   "metadata": {},
   "source": [
    "### Eval: confirming target word is in generation"
   ]
  },
  {
   "cell_type": "code",
   "execution_count": 4,
   "metadata": {},
   "outputs": [],
   "source": [
    "# note: only checks for substring. would be aided in accuracy by lemmatization\n",
    "def check_containments(df, generation_column: str):\n",
    "    containments = []\n",
    "    for row in df.to_dict(orient='records'):\n",
    "        vocab_word = row['vocab_word'].lower()\n",
    "        generation = row[generation_column].lower()\n",
    "        # vocab_in_generation = bool(re.search(vocab_word, generation))\n",
    "        containments.append(int(vocab_word in generation))\n",
    "    return containments\n",
    "\n",
    "def count_containments(df, generation_column):\n",
    "    return sum(check_containments(df, generation_column))"
   ]
  },
  {
   "cell_type": "code",
   "execution_count": null,
   "metadata": {},
   "outputs": [],
   "source": [
    "####################\n",
    "# Running the eval #\n",
    "####################\n",
    "df['contains_target'] = check_containments(df, 'baseline_prompt')\n",
    "df['contains_target'].value_counts()\n",
    "\n",
    "# print(f\"# of rows: {len(df)}\\n===\\n# containing target vocab:\")\n",
    "# for col in experiment_columns_names:\n",
    "#     print(col, count_containments(df, col))"
   ]
  },
  {
   "cell_type": "markdown",
   "metadata": {},
   "source": [
    "### Eval: Counting out-of-vocabulary words"
   ]
  },
  {
   "cell_type": "code",
   "execution_count": 6,
   "metadata": {},
   "outputs": [],
   "source": [
    "def clean_text(input: str):\n",
    "    input = input.lower()\n",
    "    input = re.sub(\"[\\s,.?!'\\\"]+\", \" \", input)\n",
    "    input = re.sub(\"\\s+\", \" \", input)\n",
    "    input = input.strip()\n",
    "    return input\n",
    "\n",
    "def split_words(generation):\n",
    "    generation = clean_text(generation)\n",
    "    words = re.split(\"\\s+\", generation)\n",
    "    return words\n",
    "\n",
    "def count_out_of_vocab(generation, vocab):\n",
    "    return len(filter_out_of_vocab(generation, vocab))\n",
    "    # words = split_words(generation)\n",
    "    # return sum(w not in vocab for w in words)\n",
    "\n",
    "# TODO: perhaps do simple tweak to account for (regular) plurals (if need is demonstrated)\n",
    "# given more time/complexity, could preprocess all words by lemmatizing them\n",
    "def filter_out_of_vocab(generation, vocab):\n",
    "    words = split_words(generation)\n",
    "    return [w for w in words if w not in vocab]\n",
    "\n",
    "def vocab_count_eval(df, generation_column: str, vocab_set):\n",
    "    out_of_vocab_counts = []\n",
    "    for row in df.to_dict(orient='records'):\n",
    "        target_word = row['vocab_word'].lower()\n",
    "        vocab_set = vocab_set | {target_word}\n",
    "        generation = row[generation_column].lower()\n",
    "        out_of_vocab_counts.append(count_out_of_vocab(generation, vocab_set))\n",
    "    return out_of_vocab_counts\n",
    "\n",
    "def word_count(df, generation_column):\n",
    "    counts = []\n",
    "    for row in df.to_dict(orient='records'):\n",
    "        generation = row[generation_column].lower()\n",
    "        counts.append(len(split_words(generation)))\n",
    "    return counts"
   ]
  },
  {
   "cell_type": "code",
   "execution_count": 7,
   "metadata": {},
   "outputs": [],
   "source": [
    "####################\n",
    "# Running the eval #\n",
    "####################\n",
    "df['n_out_of_vocab'] = vocab_count_eval(df, 'baseline_prompt', common_500)\n",
    "df['generation_length'] = word_count(df, 'baseline_prompt')\n",
    "df['%_out_of_vocab'] = df['n_out_of_vocab'] / df['generation_length']"
   ]
  },
  {
   "cell_type": "markdown",
   "metadata": {},
   "source": [
    "### Analysis of human evals"
   ]
  },
  {
   "cell_type": "code",
   "execution_count": 8,
   "metadata": {},
   "outputs": [],
   "source": [
    "def aggregate_humans(df, eval_name):\n",
    "    column_names = [f'{eval_name}_{i}' for i in range(4)]\n",
    "    # column_names = [f'{eval_name}_{i}' for i in (0, 1, 2, 3)]\n",
    "    restricted = df[column_names]\n",
    "    aggregated = restricted.mean(axis=1)\n",
    "    # aggregated = restricted.var(axis=1)\n",
    "    # for cname in column_names\n",
    "\n",
    "    transposed = restricted.to_numpy().T\n",
    "    kripp_a = krippendorff.alpha(reliability_data=transposed, level_of_measurement='ordinal')\n",
    "    return aggregated,kripp_a"
   ]
  },
  {
   "cell_type": "code",
   "execution_count": null,
   "metadata": {},
   "outputs": [],
   "source": [
    "for eval_name in ('mechanics', 'semantics', 'context'):\n",
    "    col,alpha = aggregate_humans(df, eval_name)\n",
    "    df[eval_name] = col\n",
    "    print(f\"Krippendorff alpha for {eval_name}: {alpha}\")"
   ]
  },
  {
   "cell_type": "code",
   "execution_count": 10,
   "metadata": {},
   "outputs": [],
   "source": [
    "df['%_out_of_vocab*100'] = df['%_out_of_vocab']*100\n",
    "df['contains_target*100'] = df['contains_target']*100"
   ]
  },
  {
   "cell_type": "markdown",
   "metadata": {},
   "source": [
    "### Plotting"
   ]
  },
  {
   "cell_type": "code",
   "execution_count": null,
   "metadata": {},
   "outputs": [],
   "source": [
    "def generate_model_names(df):\n",
    "    model_col = []\n",
    "    for row in df.to_dict(orient='records'):\n",
    "        boost_coefficient = row['boost_coefficient'].lower()\n",
    "        if boost_coefficient == 'gemini':\n",
    "            model_col.append('gemini')\n",
    "        else:\n",
    "            model_col.append(f'llama, boost={boost_coefficient}')\n",
    "    return model_col\n",
    "\n",
    "df['model'] = generate_model_names(df)\n",
    "df.head()"
   ]
  },
  {
   "cell_type": "code",
   "execution_count": null,
   "metadata": {},
   "outputs": [],
   "source": [
    "fig = px.histogram(df, \n",
    "             title=\"Percentage of generations containing target word<br><sup>higher is better</sup>\",\n",
    "             x='model', # color='model',\n",
    "             y='contains_target*100', range_y=[0,105],\n",
    "             histfunc='avg', \n",
    "             width=600, height=450\n",
    "             )\n",
    "fig.update_layout(yaxis_title='% containing target word')\n",
    "fig.write_image('../visualizations/contains_target.png', scale=2)\n",
    "fig"
   ]
  },
  {
   "cell_type": "code",
   "execution_count": null,
   "metadata": {},
   "outputs": [],
   "source": [
    "fig = px.box(df, \n",
    "       title='Percentage of non-vocab-set words in generations<br><sup>lower is better</sup>',\n",
    "       x='model', # color='model',\n",
    "       y='%_out_of_vocab*100', \n",
    "    #    range_y=[0,105],\n",
    "       width=600, height=450)\n",
    "fig.update_layout(yaxis_title=\"% out-of-vocab words in generation\")\n",
    "fig.write_image(\"../visualizations/out_of_vocab.png\", scale=2)\n",
    "fig"
   ]
  },
  {
   "cell_type": "code",
   "execution_count": null,
   "metadata": {},
   "outputs": [],
   "source": [
    "\n",
    "melted = df[['model', 'mechanics', 'semantics', 'context']]\\\n",
    "    .melt(id_vars=['model'], ignore_index=False)\\\n",
    "    .rename(columns={'variable': 'evaluation'})\n",
    "\n",
    "fig = px.histogram(melted, \n",
    "       title='Human eval results<br>',\n",
    "       x='model', color='evaluation',\n",
    "    #    x='variable', color='model',\n",
    "       y='value', range_y=[0,5.25],\n",
    "       histfunc='avg',\n",
    "       barmode='group',\n",
    "       width=600, height=450)\n",
    "\n",
    "# fig.update_layout(yaxis_title=\"Avg of mechanics score\")\n",
    "fig.write_image(\"../visualizations/human_evals.png\", scale=2)\n",
    "fig"
   ]
  },
  {
   "cell_type": "code",
   "execution_count": null,
   "metadata": {},
   "outputs": [],
   "source": [
    "df[df['contains_target'] == 0]"
   ]
  }
 ],
 "metadata": {
  "kernelspec": {
   "display_name": ".venv",
   "language": "python",
   "name": "python3"
  },
  "language_info": {
   "codemirror_mode": {
    "name": "ipython",
    "version": 3
   },
   "file_extension": ".py",
   "mimetype": "text/x-python",
   "name": "python",
   "nbconvert_exporter": "python",
   "pygments_lexer": "ipython3",
   "version": "3.11.9"
  }
 },
 "nbformat": 4,
 "nbformat_minor": 2
}
