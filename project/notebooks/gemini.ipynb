{
 "cells": [
  {
   "cell_type": "code",
   "execution_count": null,
   "metadata": {},
   "outputs": [],
   "source": [
    "%pip install -U langchain-google-genai"
   ]
  },
  {
   "cell_type": "code",
   "execution_count": null,
   "metadata": {},
   "outputs": [],
   "source": [
    "import pandas as pd\n",
    "from dotenv import load_dotenv\n",
    "import os\n",
    "from tqdm.auto import tqdm\n",
    "from time import sleep\n",
    "\n",
    "# from langchain import Langchain\n",
    "from langchain_google_genai import ChatGoogleGenerativeAI\n",
    "\n",
    "\n",
    "load_dotenv()\n",
    "GEMINI_API_KEY = os.getenv(\"GEMINI_API_KEY\")\n",
    "# lc = Langchain(api_key=GEMINI_API_KEY)\n",
    "# status = lc.check_connection()\n",
    "# print(f\"Gemini connection status: {status}\")\n",
    "\n",
    "llm = ChatGoogleGenerativeAI(\n",
    "    model='gemini-1.5-flash',\n",
    "    temperature=0.5,\n",
    "    max_tokens=None,\n",
    "    timeout=None,\n",
    "    max_retries=2,\n",
    "    google_api_key=GEMINI_API_KEY,\n",
    ")\n",
    "# messages = [('system', \"You are a helpful assistant. \"),\n",
    "            # ('human', \"Who was Carl Sagan?\")]\n",
    "# resp = llm.invoke(messages)\n",
    "# print(resp.content)\n",
    "\n",
    "def generate_example(target_word, vocab_set):\n",
    "    augmented_vocab = vocab_set | {target_word}\n",
    "    system_prompt = f\"You are a helpful language tutor. Your student is only familiar with the following words, so please mainly use words from the following list: {augmented_vocab}\"\n",
    "    user_prompt = f\"Please write a sentence using the word \\\"{target_word}\\\", with enough context clues that someone can understand the meaning of the word. However, don't simply define the word. Respond with only the sentence, nothing else, no explanations.\"\n",
    "\n",
    "    # print(prompt)\n",
    "    messages = [('system', system_prompt),\n",
    "                ('human', user_prompt)]\n",
    "    resp = llm.invoke(messages)\n",
    "    return resp\n",
    "\n",
    "def main():\n",
    "\n",
    "    common_vocab = pd.read_csv(\"../data/vocab_2000.csv\")\n",
    "    common_500 = {w.lower() for w in common_vocab['word'][:500]}\n",
    "\n",
    "    # scuffed but works in a pinch\n",
    "    target_words = pd.read_csv(\"../data/output_0.csv\")['vocab_word'][:34]\n",
    "\n",
    "    # resps = []\n",
    "    data = []\n",
    "    for target_word in tqdm(target_words):\n",
    "\n",
    "        resp = generate_example(target_word, common_500)\n",
    "        data.append({'vocab_word': target_word, \n",
    "        'baseline_prompt': resp.content,\n",
    "        'boost_coefficient': 'gemini'}\n",
    "        )\n",
    "        sleep(4) # rate limit: 15 requests per minute\n",
    "\n",
    "    result = pd.DataFrame(data)\n",
    "    result.to_csv(\"../data/output_gemini.csv\")\n",
    "\n",
    "main()\n"
   ]
  },
  {
   "cell_type": "code",
   "execution_count": null,
   "metadata": {},
   "outputs": [],
   "source": []
  }
 ],
 "metadata": {
  "kernelspec": {
   "display_name": ".venv",
   "language": "python",
   "name": "python3"
  },
  "language_info": {
   "codemirror_mode": {
    "name": "ipython",
    "version": 3
   },
   "file_extension": ".py",
   "mimetype": "text/x-python",
   "name": "python",
   "nbconvert_exporter": "python",
   "pygments_lexer": "ipython3",
   "version": "3.11.9"
  }
 },
 "nbformat": 4,
 "nbformat_minor": 2
}
